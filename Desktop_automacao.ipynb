{
 "cells": [
  {
   "cell_type": "markdown",
   "id": "c89330dd",
   "metadata": {},
   "source": [
    "<img class=\"img-fluid\" src=\"https://github.com/Jandersolutions/brasilia/raw/main/bg2.png\" style=\"display=block; margin:auto\" alt=\"Brasilia logotipo\"/>"
   ]
  },
  {
   "cell_type": "markdown",
   "id": "e7be997e",
   "metadata": {},
   "source": [
    "<div class=\"jumbotron\" style=\"color:blue;\">\n",
    "  <h1 class=\"display-4\">Automatizando envio de relatorios diarios</h1>\n",
    "  <p class=\"lead\">Uma tarefa rotineira em uma empresa, como abrir uma planilha diariamente,fazer calculos e enviar para a diretoria. pode ser melhorada com <b>Python RPA</b> assim a empresa ganha tempo otimizando esse processo.</p>\n",
    "  <hr class=\"my-4\">\n",
    "  <p class=\"lead\">Não deixe de seguir, curtir e compartilhar a pagina Brasília. Diariamente temos dicas de Python ,Ciencia de dados, RPA, Python para web, e muitas outras informações</p>\n",
    "  <p class=\"lead\">\n",
    "    <a class=\"btn btn-success btn-lg\" href=\"https://www.linkedin.com/groups/9189010/\" role=\"button\">clique aqui</a>\n",
    "  </p>\n",
    "</div>"
   ]
  },
  {
   "cell_type": "markdown",
   "id": "ab06d590",
   "metadata": {},
   "source": [
    "<div class=\"jumbotron\" style=\"color:blue;\">\n",
    "<h2 class=\"display-4\">Importando as bibliotecas</h2>\n",
    "  <p class=\"lead\">Vamos começar importando as bibliotecas necessarias ao projeto.</p>\n",
    "  <hr class=\"my-4\">\n",
    "  <h2 class=\"display-4\">Abaixo temos os links das bibliotecas para consulta posterior:</h2>\n",
    "  <p class=\"lead\">\n",
    "    <a class=\"btn btn-primary btn-lg\" href=\"https://pyperclip.readthedocs.io/en/latest/\" role=\"button\">Pyperclip</a>\n",
    "    <a class=\"btn btn-primary btn-lg\" href=\"https://pyautogui.readthedocs.io/en/latest/\" role=\"button\">PyautoGUI</a>\n",
    "    <a class=\"btn btn-primary btn-lg\" href=\"https://docs.python.org/3/library/time.html\" role=\"button\">Time</a>\n",
    "  </p>\n",
    "  </div>"
   ]
  },
  {
   "cell_type": "code",
   "execution_count": 1,
   "id": "ac5cdb8a",
   "metadata": {},
   "outputs": [],
   "source": [
    "import pyautogui\n",
    "import time\n",
    "import pyperclip"
   ]
  },
  {
   "cell_type": "code",
   "execution_count": 2,
   "id": "dc3a4c18",
   "metadata": {},
   "outputs": [],
   "source": [
    "pyautogui.PAUSE = 1 #entre uma operação e outra ele aguarda o tempo de 1 segundo"
   ]
  },
  {
   "cell_type": "markdown",
   "id": "032a7e47",
   "metadata": {},
   "source": [
    "<div class=\"jumbotron\" style=\"color:blue;\">\n",
    "<h2 class=\"display-4\">Etapa 1</h2>\n",
    "  <p class=\"lead\">Vamos abrir um nova aba no navegador com o link solicitado.</p>\n",
    "  </div>"
   ]
  },
  {
   "cell_type": "code",
   "execution_count": 3,
   "id": "a47e5a99",
   "metadata": {},
   "outputs": [],
   "source": [
    "pyautogui.hotkey(\"ctrl\", \"t\")\n",
    "pyperclip.copy(\"https://drive.google.com/drive/folders/1gIOC9EgCuP4mh5RGQ2LM1tfIQfbZNxuP?usp=sharing\")\n",
    "pyautogui.hotkey(\"ctrl\", \"v\")\n",
    "pyautogui.press(\"enter\")\n",
    "time.sleep(5)"
   ]
  },
  {
   "cell_type": "markdown",
   "id": "0844ed42",
   "metadata": {},
   "source": [
    "<div class=\"jumbotron\" style=\"color:blue;\">\n",
    "<h2 class=\"display-4\">Etapa 2</h2>\n",
    "  <p class=\"lead\">Vamos navegar ate o local do arquivo.</p>\n",
    "  </div>"
   ]
  },
  {
   "cell_type": "code",
   "execution_count": 4,
   "id": "d2395f00",
   "metadata": {},
   "outputs": [],
   "source": [
    "pyautogui.click(x=369, y=301, clicks=2)\n",
    "time.sleep(2)"
   ]
  },
  {
   "cell_type": "markdown",
   "id": "434c2e99",
   "metadata": {},
   "source": [
    "<div class=\"jumbotron\" style=\"color:blue;\">\n",
    "<h2 class=\"display-4\">Etapa 3</h2>\n",
    "  <p class=\"lead\">Agora vamos fazer o download do arquivo.</p>\n",
    "  </div>"
   ]
  },
  {
   "cell_type": "code",
   "execution_count": 5,
   "id": "df7093f4",
   "metadata": {},
   "outputs": [],
   "source": [
    "pyautogui.click(x=360, y=364)\n",
    "pyautogui.click(x=1160, y=196)\n",
    "pyautogui.click(x=1014, y=529, clicks=2)"
   ]
  },
  {
   "cell_type": "markdown",
   "id": "cbceba25",
   "metadata": {},
   "source": [
    "<div class=\"jumbotron\" style=\"color:blue;\">\n",
    "<h2 class=\"display-4\">Etapa 4</h2>\n",
    "  <p class=\"lead\">Agora vamos ler o arquivo baixado, pegar os indicadores e realizar as operações</p>\n",
    "  </div>"
   ]
  },
  {
   "cell_type": "code",
   "execution_count": 6,
   "id": "57e9c4df",
   "metadata": {},
   "outputs": [
    {
     "data": {
      "text/html": [
       "<div>\n",
       "<style scoped>\n",
       "    .dataframe tbody tr th:only-of-type {\n",
       "        vertical-align: middle;\n",
       "    }\n",
       "\n",
       "    .dataframe tbody tr th {\n",
       "        vertical-align: top;\n",
       "    }\n",
       "\n",
       "    .dataframe thead th {\n",
       "        text-align: right;\n",
       "    }\n",
       "</style>\n",
       "<table border=\"1\" class=\"dataframe\">\n",
       "  <thead>\n",
       "    <tr style=\"text-align: right;\">\n",
       "      <th></th>\n",
       "      <th>Código Venda</th>\n",
       "      <th>Data</th>\n",
       "      <th>ID Loja</th>\n",
       "      <th>Produto</th>\n",
       "      <th>Quantidade</th>\n",
       "      <th>Valor Unitário</th>\n",
       "      <th>Valor Final</th>\n",
       "    </tr>\n",
       "  </thead>\n",
       "  <tbody>\n",
       "    <tr>\n",
       "      <th>0</th>\n",
       "      <td>65014.0</td>\n",
       "      <td>2019-12-01</td>\n",
       "      <td>Shopping Morumbi</td>\n",
       "      <td>Sunga Listrado</td>\n",
       "      <td>5.0</td>\n",
       "      <td>114.0</td>\n",
       "      <td>570.0</td>\n",
       "    </tr>\n",
       "    <tr>\n",
       "      <th>1</th>\n",
       "      <td>65014.0</td>\n",
       "      <td>2019-12-01</td>\n",
       "      <td>Shopping Morumbi</td>\n",
       "      <td>Casaco Listrado</td>\n",
       "      <td>1.0</td>\n",
       "      <td>269.0</td>\n",
       "      <td>269.0</td>\n",
       "    </tr>\n",
       "    <tr>\n",
       "      <th>2</th>\n",
       "      <td>65016.0</td>\n",
       "      <td>2019-12-01</td>\n",
       "      <td>Iguatemi Campinas</td>\n",
       "      <td>Sapato Listrado</td>\n",
       "      <td>2.0</td>\n",
       "      <td>363.0</td>\n",
       "      <td>726.0</td>\n",
       "    </tr>\n",
       "    <tr>\n",
       "      <th>3</th>\n",
       "      <td>65016.0</td>\n",
       "      <td>2019-12-01</td>\n",
       "      <td>Iguatemi Campinas</td>\n",
       "      <td>Casaco</td>\n",
       "      <td>1.0</td>\n",
       "      <td>250.0</td>\n",
       "      <td>250.0</td>\n",
       "    </tr>\n",
       "    <tr>\n",
       "      <th>4</th>\n",
       "      <td>65017.0</td>\n",
       "      <td>2019-12-01</td>\n",
       "      <td>Shopping SP Market</td>\n",
       "      <td>Gorro Liso</td>\n",
       "      <td>3.0</td>\n",
       "      <td>92.0</td>\n",
       "      <td>276.0</td>\n",
       "    </tr>\n",
       "    <tr>\n",
       "      <th>...</th>\n",
       "      <td>...</td>\n",
       "      <td>...</td>\n",
       "      <td>...</td>\n",
       "      <td>...</td>\n",
       "      <td>...</td>\n",
       "      <td>...</td>\n",
       "      <td>...</td>\n",
       "    </tr>\n",
       "    <tr>\n",
       "      <th>7084</th>\n",
       "      <td>69996.0</td>\n",
       "      <td>2019-12-26</td>\n",
       "      <td>Center Shopping Uberlândia</td>\n",
       "      <td>Short Listrado</td>\n",
       "      <td>2.0</td>\n",
       "      <td>102.0</td>\n",
       "      <td>204.0</td>\n",
       "    </tr>\n",
       "    <tr>\n",
       "      <th>7085</th>\n",
       "      <td>69996.0</td>\n",
       "      <td>2019-12-26</td>\n",
       "      <td>Center Shopping Uberlândia</td>\n",
       "      <td>Mochila</td>\n",
       "      <td>4.0</td>\n",
       "      <td>270.0</td>\n",
       "      <td>1080.0</td>\n",
       "    </tr>\n",
       "    <tr>\n",
       "      <th>7086</th>\n",
       "      <td>69996.0</td>\n",
       "      <td>2019-12-26</td>\n",
       "      <td>Center Shopping Uberlândia</td>\n",
       "      <td>Pulseira Estampa</td>\n",
       "      <td>1.0</td>\n",
       "      <td>87.0</td>\n",
       "      <td>87.0</td>\n",
       "    </tr>\n",
       "    <tr>\n",
       "      <th>7087</th>\n",
       "      <td>69997.0</td>\n",
       "      <td>2019-12-26</td>\n",
       "      <td>Ribeirão Shopping</td>\n",
       "      <td>Camisa Listrado</td>\n",
       "      <td>1.0</td>\n",
       "      <td>108.0</td>\n",
       "      <td>108.0</td>\n",
       "    </tr>\n",
       "    <tr>\n",
       "      <th>7088</th>\n",
       "      <td>69997.0</td>\n",
       "      <td>2019-12-26</td>\n",
       "      <td>Ribeirão Shopping</td>\n",
       "      <td>Short Linho</td>\n",
       "      <td>2.0</td>\n",
       "      <td>133.0</td>\n",
       "      <td>266.0</td>\n",
       "    </tr>\n",
       "  </tbody>\n",
       "</table>\n",
       "<p>7089 rows × 7 columns</p>\n",
       "</div>"
      ],
      "text/plain": [
       "      Código Venda       Data                     ID Loja           Produto  \\\n",
       "0          65014.0 2019-12-01            Shopping Morumbi    Sunga Listrado   \n",
       "1          65014.0 2019-12-01            Shopping Morumbi   Casaco Listrado   \n",
       "2          65016.0 2019-12-01           Iguatemi Campinas   Sapato Listrado   \n",
       "3          65016.0 2019-12-01           Iguatemi Campinas            Casaco   \n",
       "4          65017.0 2019-12-01          Shopping SP Market        Gorro Liso   \n",
       "...            ...        ...                         ...               ...   \n",
       "7084       69996.0 2019-12-26  Center Shopping Uberlândia    Short Listrado   \n",
       "7085       69996.0 2019-12-26  Center Shopping Uberlândia           Mochila   \n",
       "7086       69996.0 2019-12-26  Center Shopping Uberlândia  Pulseira Estampa   \n",
       "7087       69997.0 2019-12-26           Ribeirão Shopping   Camisa Listrado   \n",
       "7088       69997.0 2019-12-26           Ribeirão Shopping       Short Linho   \n",
       "\n",
       "      Quantidade  Valor Unitário  Valor Final  \n",
       "0            5.0           114.0        570.0  \n",
       "1            1.0           269.0        269.0  \n",
       "2            2.0           363.0        726.0  \n",
       "3            1.0           250.0        250.0  \n",
       "4            3.0            92.0        276.0  \n",
       "...          ...             ...          ...  \n",
       "7084         2.0           102.0        204.0  \n",
       "7085         4.0           270.0       1080.0  \n",
       "7086         1.0            87.0         87.0  \n",
       "7087         1.0           108.0        108.0  \n",
       "7088         2.0           133.0        266.0  \n",
       "\n",
       "[7089 rows x 7 columns]"
      ]
     },
     "metadata": {},
     "output_type": "display_data"
    }
   ],
   "source": [
    "import pandas as pd\n",
    "# altere o conteúdo entre aspas duplas, para o caminho onde salvou o arquivo\n",
    "arquivo = r\"/home/janderson/Downloads/\"  \n",
    "tabela = pd.read_excel(arquivo + \"/RelatorioVendas.xlsx\")\n",
    "display(tabela)\n",
    "faturamento = tabela[\"Valor Final\"].sum()\n",
    "quantidade = tabela[\"Quantidade\"].sum()"
   ]
  },
  {
   "cell_type": "markdown",
   "id": "6b7667c3",
   "metadata": {},
   "source": [
    "<div class=\"jumbotron\" style=\"color:blue;\">\n",
    "<h2 class=\"display-4\">Etapa 5</h2>\n",
    "  <p class=\"lead\">Enviaremos um e-mail através do site Gmail</p>\n",
    "  </div>"
   ]
  },
  {
   "cell_type": "code",
   "execution_count": null,
   "id": "f4d6f506",
   "metadata": {},
   "outputs": [],
   "source": [
    "# Entrar no email\n",
    "pyautogui.hotkey(\"ctrl\", \"t\")\n",
    "pyperclip.copy(\"https://mail.google.com/mail/u/0/#inbox\")\n",
    "pyautogui.hotkey(\"ctrl\", \"v\")\n",
    "pyautogui.press(\"enter\")\n",
    "time.sleep(5)\n",
    "pyautogui.click(x=93, y=201)\n",
    "time.sleep(5)\n",
    "pyautogui.write(\"jba1719@gmail.com\")\n",
    "time.sleep(5)\n",
    "pyautogui.press(\"tab\") # seleciona o email\n",
    "pyautogui.press(\"tab\") # pula pro campo de assunto\n",
    "pyperclip.copy(\"Relatório de Vendas\")\n",
    "pyautogui.hotkey(\"ctrl\", \"v\") # escrever o assunto\n",
    "pyautogui.press(\"tab\")\n",
    "texto = f\"\"\"\n",
    "Prezados, bom dia\n",
    "\n",
    "O faturamento de ontem foi de: R${faturamento:,.2f}\n",
    "A quantidade de produtos foi de: {quantidade:,}\n",
    "\n",
    "\"\"\"\n",
    "pyperclip.copy(texto)\n",
    "pyautogui.hotkey(\"ctrl\", \"v\")\n",
    "pyautogui.hotkey(\"ctrl\", \"enter\")"
   ]
  },
  {
   "cell_type": "code",
   "execution_count": null,
   "id": "c457b837",
   "metadata": {},
   "outputs": [],
   "source": []
  },
  {
   "cell_type": "code",
   "execution_count": null,
   "id": "457c9bf4",
   "metadata": {},
   "outputs": [],
   "source": []
  }
 ],
 "metadata": {
  "kernelspec": {
   "display_name": "Python 3 (ipykernel)",
   "language": "python",
   "name": "python3"
  },
  "language_info": {
   "codemirror_mode": {
    "name": "ipython",
    "version": 3
   },
   "file_extension": ".py",
   "mimetype": "text/x-python",
   "name": "python",
   "nbconvert_exporter": "python",
   "pygments_lexer": "ipython3",
   "version": "3.10.4"
  }
 },
 "nbformat": 4,
 "nbformat_minor": 5
}
